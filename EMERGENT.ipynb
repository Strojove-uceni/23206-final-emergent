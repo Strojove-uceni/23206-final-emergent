{
  "nbformat": 4,
  "nbformat_minor": 0,
  "metadata": {
    "colab": {
      "provenance": [],
      "authorship_tag": "ABX9TyP2eqyu/HDMddYt06LMMtpw",
      "include_colab_link": true
    },
    "kernelspec": {
      "name": "python3",
      "display_name": "Python 3"
    },
    "language_info": {
      "name": "python"
    }
  },
  "cells": [
    {
      "cell_type": "markdown",
      "metadata": {
        "id": "view-in-github",
        "colab_type": "text"
      },
      "source": [
        "<a href=\"https://colab.research.google.com/github/Strojove-uceni/23206-final-emergent/blob/main/EMERGENT.ipynb\" target=\"_parent\"><img src=\"https://colab.research.google.com/assets/colab-badge.svg\" alt=\"Open In Colab\"/></a>"
      ]
    },
    {
      "cell_type": "markdown",
      "source": [
        "# EMERGENT: barcodE iMage EnhanceR usinG dEep Neural neTworks\n",
        "\n",
        "Autoři: Alexej Gaj, Štěpán Studenovský\n",
        "\n",
        "---\n",
        "Cílem tohoto projektu bylo vytvořit program na rozpoznávání a čtení čárových EAN a QR kódů, který by byl integrovatelný do zařízení používající fotoaparát. Volili jsme dva přístupy řešení, první cesta byla jít přes:\n",
        "\n",
        "> detekce kódu -> vyříznutí -> denoising -> čtení\n",
        "\n",
        "> denoising -> detekce -> vyříznutí -> čtení\n",
        "\n",
        "K detekci kódu jsme se snažili použít nejprve vlastní síť vytvořenou from scratch se špatnými výsledky, tak jsme zvolili finetunování modelu Yolov5s/m. Vyříznutí jsme napsali simple python skript, který vezme výsledky z yolov5 a vyřízne obrázek.\n",
        "\n",
        "... detekce - todo\n",
        "\n",
        "Čtení kódu jsme použili již implementovanou čtečku kódu viz. odkaz???"
      ],
      "metadata": {
        "id": "klDLvWCYv5Gz"
      }
    },
    {
      "cell_type": "markdown",
      "source": [
        "# Metodologie\n",
        "\n",
        "Pro detekci čárových kódu jsme nejprve připravili datasety, některé již anotované: https://www.kaggle.com/datasets/whoosis/barcode-detection-annotated-dataset, http://artelab.dista.uninsubria.it/downloads/datasets/barcode/medium_barcode_1d/medium_barcode_1d.html,\n",
        "\n",
        "dále ještě jeden ze stránky kaggle.com, kde bylo přibližně 500 obrázků anotovaných ručně pomocí https://www.makesense.ai/, výborný nastroj pro anotování obrázků pro formát YOLO. Obrázky jsme transformovali\n",
        "\n",
        "Co se týče YOLO, jelikož se jedná o poměrně jednoduchou úlohu detekce jen jedné třídy, tak jsme nejprve zvolili cestu pro vytvoření a natrénování vlastní neuronové síte v jazyce pytorch-lightning. Trénovali jsme na Helios na FJFI, dále v google.comab na T4."
      ],
      "metadata": {
        "id": "SqbpTAS98MML"
      }
    },
    {
      "cell_type": "code",
      "execution_count": null,
      "metadata": {
        "id": "jAxgy_eFv25O"
      },
      "outputs": [],
      "source": []
    }
  ]
}