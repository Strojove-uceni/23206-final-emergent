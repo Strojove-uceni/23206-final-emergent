{
  "nbformat": 4,
  "nbformat_minor": 0,
  "metadata": {
    "colab": {
      "provenance": [],
      "authorship_tag": "ABX9TyOW67IV+f3m9ChSjrDo72z1",
      "include_colab_link": true
    },
    "kernelspec": {
      "name": "python3",
      "display_name": "Python 3"
    },
    "language_info": {
      "name": "python"
    }
  },
  "cells": [
    {
      "cell_type": "markdown",
      "metadata": {
        "id": "view-in-github",
        "colab_type": "text"
      },
      "source": [
        "<a href=\"https://colab.research.google.com/github/Strojove-uceni/23206-final-emergent/blob/main/EMERGENT.ipynb\" target=\"_parent\"><img src=\"https://colab.research.google.com/assets/colab-badge.svg\" alt=\"Open In Colab\"/></a>"
      ]
    },
    {
      "cell_type": "markdown",
      "source": [
        "# EMERGENT\n",
        "\n",
        "Autoři: Alexej Gaj, Štěpán Studenovský\n",
        "\n",
        "---\n",
        "Cílem tohoto projektu bylo vytvořit program na rozpoznávání a čtení čárových EAN a později QR kódů."
      ],
      "metadata": {
        "id": "klDLvWCYv5Gz"
      }
    },
    {
      "cell_type": "code",
      "execution_count": null,
      "metadata": {
        "id": "jAxgy_eFv25O"
      },
      "outputs": [],
      "source": []
    }
  ]
}